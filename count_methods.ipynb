{
 "cells": [
  {
   "cell_type": "code",
   "execution_count": 1,
   "metadata": {},
   "outputs": [
    {
     "name": "stdout",
     "output_type": "stream",
     "text": [
      "Total methods: 9108\n"
     ]
    }
   ],
   "source": [
    "import re\n",
    "\n",
    "def count_methods(txt_file):\n",
    "    try:\n",
    "        with open(txt_file, 'r', encoding='utf-8') as file:  # Specify utf-8 encoding\n",
    "            code = file.read()\n",
    "    except UnicodeDecodeError:\n",
    "        with open(txt_file, 'r', encoding='ISO-8859-1') as file:  # Fallback to ISO-8859-1 encoding\n",
    "            code = file.read()\n",
    "\n",
    "    # Regex to match Java method signatures\n",
    "    method_pattern = r'(public|private|protected)\\s+[\\w<>\\[\\]]+\\s+[\\w]+\\s*\\([^\\)]*\\)\\s*\\{'\n",
    "    \n",
    "    # Find all method signatures\n",
    "    methods = re.findall(method_pattern, code)\n",
    "    return len(methods)\n",
    "\n",
    "# Usage\n",
    "java_file = 'cleaned_train_data.txt'\n",
    "print(f\"Total methods: {count_methods(java_file)}\")\n"
   ]
  }
 ],
 "metadata": {
  "kernelspec": {
   "display_name": "Python 3",
   "language": "python",
   "name": "python3"
  },
  "language_info": {
   "codemirror_mode": {
    "name": "ipython",
    "version": 3
   },
   "file_extension": ".py",
   "mimetype": "text/x-python",
   "name": "python",
   "nbconvert_exporter": "python",
   "pygments_lexer": "ipython3",
   "version": "3.10.1"
  }
 },
 "nbformat": 4,
 "nbformat_minor": 2
}
